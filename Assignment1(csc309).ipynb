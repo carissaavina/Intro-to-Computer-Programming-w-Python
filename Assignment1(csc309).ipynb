{
 "cells": [
  {
   "cell_type": "code",
   "execution_count": 9,
   "metadata": {
    "scrolled": true
   },
   "outputs": [
    {
     "name": "stdout",
     "output_type": "stream",
     "text": [
      "Hello World!\n",
      "Hello Carissa!\n",
      "Today's date is:\n",
      "2021-02-01 16:16:52.658735\n"
     ]
    }
   ],
   "source": [
    "# Name: Carissa Avina-Beltran\n",
    "# Date: 1/26/2020\n",
    "# Course: CSC 309\n",
    "# Assignment #1: Hello World python program \n",
    "# Inputs: input from keyboard, i.e. name \n",
    "# Outputs: Hello world Python program that will print my name, the date, the time, then exit\n",
    "# Dependencies: datetime   \n",
    "# Assumptions: written/tested with Python 3.8.5 on MacOS 11.0\n",
    "\n",
    "from datetime import datetime as dt\n",
    "\n",
    "print(\"Hello World!\")\n",
    "myName = \"Carissa\"\n",
    "print(\"Hello \" + myName + \"!\")\n",
    "\n",
    "t = dt.today()\n",
    "print(\"Today's date is:\")\n",
    "print(t)\n",
    "\n"
   ]
  },
  {
   "cell_type": "code",
   "execution_count": null,
   "metadata": {},
   "outputs": [],
   "source": []
  }
 ],
 "metadata": {
  "kernelspec": {
   "display_name": "Python 3",
   "language": "python",
   "name": "python3"
  },
  "language_info": {
   "codemirror_mode": {
    "name": "ipython",
    "version": 3
   },
   "file_extension": ".py",
   "mimetype": "text/x-python",
   "name": "python",
   "nbconvert_exporter": "python",
   "pygments_lexer": "ipython3",
   "version": "3.8.5"
  }
 },
 "nbformat": 4,
 "nbformat_minor": 4
}
